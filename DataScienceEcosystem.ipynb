{
 "cells": [
  {
   "cell_type": "markdown",
   "id": "026a7354-3f3f-44ea-a0bb-50e4cc7558f7",
   "metadata": {},
   "source": [
    "# Data Science Tools and Ecosystem"
   ]
  },
  {
   "cell_type": "markdown",
   "id": "1a7e2419-79f7-435d-b65d-4c08e9a36533",
   "metadata": {},
   "source": [
    "In this notebook, Data Science Tools and Ecosystem are summarized."
   ]
  },
  {
   "cell_type": "markdown",
   "id": "73134627-d767-4c19-8e9c-d3a556fcc162",
   "metadata": {},
   "source": [
    "**Objectives**"
   ]
  },
  {
   "cell_type": "markdown",
   "id": "08af6eac-beba-4db0-8e3d-40bb742c3b50",
   "metadata": {},
   "source": [
    "- Python is popular language for DS\n",
    "- R Studio is also popular language for DS\n",
    "- Julia is is also popular for DS"
   ]
  },
  {
   "cell_type": "markdown",
   "id": "5eeb725c-73d4-4de1-8304-f70921ed8fa3",
   "metadata": {},
   "source": [
    "Some of the popular languages that Data Scientists use are:"
   ]
  },
  {
   "cell_type": "markdown",
   "id": "dd7aed91-38a8-4d42-a8a1-31be9d1a42b2",
   "metadata": {},
   "source": [
    "1. Python\n",
    "2. RStudio \n",
    "3. Julia"
   ]
  },
  {
   "cell_type": "markdown",
   "id": "af354d7c-51cc-450a-9341-b2eea5f82a0c",
   "metadata": {},
   "source": [
    "Some of the commonly used libraries used by Data Scientists include:"
   ]
  },
  {
   "cell_type": "markdown",
   "id": "5177d411-ac68-43be-aee3-643e43601ecc",
   "metadata": {},
   "source": [
    "1. Numpy\n",
    "2. Matplotlib\n",
    "3. Pandas \n",
    "4. PyTorch"
   ]
  },
  {
   "cell_type": "markdown",
   "id": "0a6a8e84-e274-40ec-9d47-2d4784c2ae29",
   "metadata": {},
   "source": [
    "| Data Science Tools|\n",
    "|--------------|\n",
    "|Python |\n",
    "| R Studio |\n",
    "| Julia |"
   ]
  },
  {
   "cell_type": "markdown",
   "id": "7ececeed-aa76-47ae-94ec-58034ef0daf0",
   "metadata": {},
   "source": [
    "### Below are a few examples of evaluating arithmetic expressions in Python"
   ]
  },
  {
   "cell_type": "code",
   "execution_count": 7,
   "id": "93d6cfb4-2388-406f-aa13-e5586461dc51",
   "metadata": {},
   "outputs": [
    {
     "data": {
      "text/plain": [
       "17"
      ]
     },
     "execution_count": 7,
     "metadata": {},
     "output_type": "execute_result"
    }
   ],
   "source": [
    "(3*4)+5 # This a simple arithmetic expression to mutiply then add integers"
   ]
  },
  {
   "cell_type": "code",
   "execution_count": 9,
   "id": "568e045e-9a4a-4591-a9b0-12a64dd6b495",
   "metadata": {},
   "outputs": [
    {
     "data": {
      "text/plain": [
       "3.3333333333333335"
      ]
     },
     "execution_count": 9,
     "metadata": {},
     "output_type": "execute_result"
    }
   ],
   "source": [
    "200/60 # This will convert 200 minutes to hours by diving by 60\n"
   ]
  },
  {
   "cell_type": "markdown",
   "id": "23ded792-1d52-4321-99c1-f7b0eb0ee4d4",
   "metadata": {},
   "source": [
    "## Author\n",
    "Andy Cleverius "
   ]
  },
  {
   "cell_type": "code",
   "execution_count": null,
   "id": "598466a2-4278-4484-a18c-ce09f9891b97",
   "metadata": {},
   "outputs": [],
   "source": []
  }
 ],
 "metadata": {
  "kernelspec": {
   "display_name": "Python 3 (ipykernel)",
   "language": "python",
   "name": "python3"
  },
  "language_info": {
   "codemirror_mode": {
    "name": "ipython",
    "version": 3
   },
   "file_extension": ".py",
   "mimetype": "text/x-python",
   "name": "python",
   "nbconvert_exporter": "python",
   "pygments_lexer": "ipython3",
   "version": "3.12.6"
  }
 },
 "nbformat": 4,
 "nbformat_minor": 5
}
